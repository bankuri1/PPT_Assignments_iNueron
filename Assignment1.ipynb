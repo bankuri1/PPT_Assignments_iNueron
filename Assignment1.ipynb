{
 "cells": [
  {
   "cell_type": "markdown",
   "id": "cc1065c9",
   "metadata": {},
   "source": [
    "### Assignment1"
   ]
  },
  {
   "cell_type": "markdown",
   "id": "35935112",
   "metadata": {},
   "source": [
    "### <aside>\n",
    "Given an array of integers nums and an integer target, return indices of the two numbers such that they add up to target.\n",
    "\n",
    "You may assume that each input would have exactly one solution, and you may not use the same element twice.\n",
    "\n",
    "You can return the answer in any order.\n",
    "\n",
    "**Example:**\n",
    "Input: nums = [2,7,11,15], target = 9\n",
    "Output0 [0,1]\n",
    "\n",
    "**Explanation:** Because nums[0] + nums[1] == 9, we return [0, 1][\n"
   ]
  },
  {
   "cell_type": "code",
   "execution_count": 3,
   "id": "370de026",
   "metadata": {},
   "outputs": [],
   "source": [
    "def twoSum(nums, target):\n",
    "   \n",
    "\n",
    "    num_lst = list(range(len(nums)))\n",
    "\n",
    "    for indx, num in enumerate(num_lst):\n",
    "        for num_other in num_lst[indx+1:]:\n",
    "            if nums[num] + nums[num_other] == target:\n",
    "                return [num, num_other]\n",
    "            else: \n",
    "                continue\n",
    "    return None"
   ]
  },
  {
   "cell_type": "code",
   "execution_count": 4,
   "id": "ca771a5b",
   "metadata": {},
   "outputs": [
    {
     "data": {
      "text/plain": [
       "[0, 1]"
      ]
     },
     "execution_count": 4,
     "metadata": {},
     "output_type": "execute_result"
    }
   ],
   "source": [
    "nums=[2,7,11,15]\n",
    "target=9\n",
    "twoSum(nums,target)"
   ]
  },
  {
   "cell_type": "markdown",
   "id": "a626203b",
   "metadata": {},
   "source": [
    "### <aside>\n",
    "Q2. Given an integer array nums and an integer val, remove all occurrences of val in nums in-place. The order of the elements may be changed. Then return the number of elements in nums which are not equal to val.\n",
    "\n",
    "Consider the number of elements in nums which are not equal to val be k, to get accepted, you need to do the following things:\n",
    "\n",
    "- Change the array nums such that the first k elements of nums contain the elements which are not equal to val. The remaining elements of nums are not important as well as the size of nums.\n",
    "- Return k.\n",
    "\n",
    "**Example :**\n",
    "Input: nums = [3,2,2,3], val = 3\n",
    "Output: 2, nums = [2,2,_*,_*]\n",
    "\n",
    "**Explanation:** Your function should return k = 2, with the first two elements of nums being 2. It does not matter what you leave beyond the returned k (hence they are underscores)[\n",
    "</aside>\n"
   ]
  },
  {
   "cell_type": "code",
   "execution_count": 10,
   "id": "9644ac30",
   "metadata": {},
   "outputs": [],
   "source": [
    "def arr(nums,val):\n",
    "    count=0\n",
    "    num_list=list(range(len(nums)))\n",
    "    for i,num in enumerate(num_list):\n",
    "        if nums[num]!=val:\n",
    "            count=count+1\n",
    "        else:\n",
    "            continue\n",
    "    return count"
   ]
  },
  {
   "cell_type": "code",
   "execution_count": 13,
   "id": "6ccc4476",
   "metadata": {},
   "outputs": [
    {
     "data": {
      "text/plain": [
       "2"
      ]
     },
     "execution_count": 13,
     "metadata": {},
     "output_type": "execute_result"
    }
   ],
   "source": [
    "nums=[2,3,3,2]\n",
    "val=3\n",
    "arr(nums,val)"
   ]
  },
  {
   "cell_type": "markdown",
   "id": "e486841a",
   "metadata": {},
   "source": [
    "### <aside>\n",
    "Q3. Given a sorted array of distinct integers and a target value, return the index if the target is found. If not, return the index where it would be if it were inserted in order.\n",
    "\n",
    "You must write an algorithm with O(log n) runtime complexity.\n",
    "\n",
    "**Example 1:**\n",
    "Input: nums = [1,3,5,6], target = 5\n",
    "\n",
    "Output: 2\n",
    "</aside>"
   ]
  },
  {
   "cell_type": "code",
   "execution_count": 22,
   "id": "159202ae",
   "metadata": {},
   "outputs": [],
   "source": [
    "def searchInsert( nums, target):\n",
    "       \n",
    "        start = 0\n",
    "        end = len(nums) - 1\n",
    "        \n",
    "      \n",
    "        while (start <= end):\n",
    "            \n",
    "            mid = int((start + end)/2)\n",
    "             \n",
    "           \n",
    "            if nums[mid] == target:\n",
    "                return mid\n",
    "            \n",
    "           \n",
    "            elif target > nums[mid]:\n",
    "                start = mid + 1\n",
    "                \n",
    "            \n",
    "            else:\n",
    "                end = mid -1\n",
    "      \n",
    "        return end + 1"
   ]
  },
  {
   "cell_type": "code",
   "execution_count": 25,
   "id": "eaadaee7",
   "metadata": {},
   "outputs": [
    {
     "data": {
      "text/plain": [
       "3"
      ]
     },
     "execution_count": 25,
     "metadata": {},
     "output_type": "execute_result"
    }
   ],
   "source": [
    "nums = [1,3,4,6]\n",
    "target = 5\n",
    "searchInsert(nums,target)"
   ]
  },
  {
   "cell_type": "code",
   "execution_count": 27,
   "id": "ebdd79fc",
   "metadata": {},
   "outputs": [
    {
     "data": {
      "text/plain": [
       "2"
      ]
     },
     "execution_count": 27,
     "metadata": {},
     "output_type": "execute_result"
    }
   ],
   "source": [
    "nums = [1,3,5,6]\n",
    "target = 5\n",
    "searchInsert(nums,target)"
   ]
  },
  {
   "cell_type": "markdown",
   "id": "9c767c6a",
   "metadata": {},
   "source": [
    "### <aside>\n",
    "💡 **Q4.** You are given a large integer represented as an integer array digits, where each digits[i] is the ith digit of the integer. The digits are ordered from most significant to least significant in left-to-right order. The large integer does not contain any leading 0's.\n",
    "\n",
    "Increment the large integer by one and return the resulting array of digits.\n",
    "\n",
    "**Example 1:**\n",
    "Input: digits = [1,2,3]\n",
    "Output: [1,2,4]\n",
    "\n",
    "**Explanation:** The array represents the integer 123.\n",
    "\n",
    "Incrementing by one gives 123 + 1 = 124.\n",
    "Thus, the result should be [1,2,4].\n",
    "\n",
    "</aside>"
   ]
  },
  {
   "cell_type": "code",
   "execution_count": 49,
   "id": "38cb033e",
   "metadata": {},
   "outputs": [],
   "source": [
    "def increment(nums):\n",
    "    i=len(nums)-1\n",
    "    print(i)\n",
    "    while i >=0 and nums[i]==9 :\n",
    "        i=i-1\n",
    "   \n",
    "    if i==-1 :\n",
    "        result=[0]*(len(nums)+1)\n",
    "        result[0]=1\n",
    "        return result\n",
    "    else:\n",
    "        result=[0]*(len(nums))\n",
    "        result[i]=nums[i]+1\n",
    "        for j in range(i-1,-1,-1):\n",
    "            result[j]=nums[j]\n",
    "    return result\n",
    "        \n",
    "        "
   ]
  },
  {
   "cell_type": "code",
   "execution_count": 50,
   "id": "3ae2e20d",
   "metadata": {},
   "outputs": [
    {
     "name": "stdout",
     "output_type": "stream",
     "text": [
      "3\n"
     ]
    },
    {
     "data": {
      "text/plain": [
       "[9, 9, 9, 9]"
      ]
     },
     "execution_count": 50,
     "metadata": {},
     "output_type": "execute_result"
    }
   ],
   "source": [
    "nums=[9,9,9,8]\n",
    "increment(nums)"
   ]
  },
  {
   "cell_type": "code",
   "execution_count": 51,
   "id": "24869724",
   "metadata": {},
   "outputs": [
    {
     "name": "stdout",
     "output_type": "stream",
     "text": [
      "3\n"
     ]
    },
    {
     "data": {
      "text/plain": [
       "[1, 0, 0, 0, 0]"
      ]
     },
     "execution_count": 51,
     "metadata": {},
     "output_type": "execute_result"
    }
   ],
   "source": [
    "nums=[9,9,9,9]\n",
    "increment(nums)"
   ]
  },
  {
   "cell_type": "markdown",
   "id": "fbf59e35",
   "metadata": {},
   "source": [
    " ### <aside>\n",
    "💡 **Q5.** You are given two integer arrays nums1 and nums2, sorted in non-decreasing order, and two integers m and n, representing the number of elements in nums1 and nums2 respectively.\n",
    "\n",
    "Merge nums1 and nums2 into a single array sorted in non-decreasing order.\n",
    "\n",
    "The final sorted array should not be returned by the function, but instead be stored inside the array nums1. To accommodate this, nums1 has a length of m + n, where the first m elements denote the elements that should be merged, and the last n elements are set to 0 and should be ignored. nums2 has a length of n.\n",
    "\n",
    "**Example 1:**\n",
    "Input: nums1 = [1,2,3,0,0,0], m = 3, nums2 = [2,5,6], n = 3\n",
    "Output: [1,2,2,3,5,6]\n",
    "\n",
    "**Explanation:** The arrays we are merging are [1,2,3] and [2,5,6].\n",
    "The result of the merge is [1,2,2,3,5,6] with the underlined elements coming from nums1.\n",
    "\n",
    "</aside>"
   ]
  },
  {
   "cell_type": "code",
   "execution_count": 106,
   "id": "359417fa",
   "metadata": {},
   "outputs": [],
   "source": [
    "def twoArray(nums1, m, nums2, n):\n",
    "       \n",
    "        i = int(m - 1)\n",
    "        j = int(n - 1)\n",
    "        k = int(m + n - 1)\n",
    "        \n",
    "        while (k >= 0):\n",
    "            if i>=0 and j>=0:\n",
    "                if(nums2[j] > nums1[i]):\n",
    "                    nums1[k] = nums2[j]\n",
    "                    k -= 1\n",
    "                    j -= 1\n",
    "                else:\n",
    "                    nums1[k] = nums1[i]\n",
    "                    k -= 1\n",
    "                    i -= 1\n",
    "            elif j >= 0:\n",
    "                nums1[k] = nums2[j]\n",
    "                k -= 1\n",
    "                j -= 1\n",
    "            else:\n",
    "                break\n",
    "        return nums1"
   ]
  },
  {
   "cell_type": "code",
   "execution_count": 107,
   "id": "0556d1c5",
   "metadata": {},
   "outputs": [
    {
     "data": {
      "text/plain": [
       "[1, 2, 2, 3, 5, 6]"
      ]
     },
     "execution_count": 107,
     "metadata": {},
     "output_type": "execute_result"
    }
   ],
   "source": [
    "nums1 = [1,2,3,0,0,0]\n",
    "m = 3\n",
    "nums2 = [2,5,6]\n",
    "n = 3\n",
    "twoArray(nums1,m,nums2,n)"
   ]
  },
  {
   "cell_type": "markdown",
   "id": "149cc1b4",
   "metadata": {},
   "source": [
    "### <aside>\n",
    "Q6.Given an integer array nums, return true if any value appears at least twice in the array, and return false if every element is distinct.\n",
    "\n",
    "**Example 1:**\n",
    "Input: nums = [1,2,3,1]\n",
    "\n",
    "Output: true\n",
    "\n",
    "</aside>"
   ]
  },
  {
   "cell_type": "code",
   "execution_count": 145,
   "id": "292cb858",
   "metadata": {},
   "outputs": [],
   "source": [
    "def arr(nums):\n",
    "    count=0\n",
    "    for i in range(len(nums)):\n",
    "        for j in range(i+1,len(nums),1):\n",
    "           \n",
    "            if nums[i]==nums[j]:\n",
    "                return True\n",
    "                \n",
    "           \n",
    "        \n",
    "    return False\n",
    "        "
   ]
  },
  {
   "cell_type": "code",
   "execution_count": 150,
   "id": "5debba51",
   "metadata": {},
   "outputs": [
    {
     "data": {
      "text/plain": [
       "False"
      ]
     },
     "execution_count": 150,
     "metadata": {},
     "output_type": "execute_result"
    }
   ],
   "source": [
    " nums = [1,2,9,10,3]\n",
    "arr(nums)"
   ]
  },
  {
   "cell_type": "code",
   "execution_count": 151,
   "id": "810d403a",
   "metadata": {},
   "outputs": [
    {
     "data": {
      "text/plain": [
       "True"
      ]
     },
     "execution_count": 151,
     "metadata": {},
     "output_type": "execute_result"
    }
   ],
   "source": [
    "nums = [1,2,3,1]\n",
    "arr(nums)"
   ]
  },
  {
   "cell_type": "markdown",
   "id": "8902304a",
   "metadata": {},
   "source": [
    "### <aside>\n",
    "Q7. Given an integer array nums, move all 0's to the end of it while maintaining the relative order of the nonzero elements.\n",
    "\n",
    "Note that you must do this in-place without making a copy of the array.\n",
    "\n",
    "**Example 1:**\n",
    "Input: nums = [0,1,0,3,12]\n",
    "Output: [1,3,12,0,0]\n",
    "\n",
    "</aside>"
   ]
  },
  {
   "cell_type": "code",
   "execution_count": 172,
   "id": "35d7cc3b",
   "metadata": {},
   "outputs": [],
   "source": [
    "def ele(nums):\n",
    "    count=0\n",
    "    k=0\n",
    "    for i in range(len(nums)):\n",
    "        if nums[i]!=0:\n",
    "            k=k+1\n",
    "    for i in range(len(nums)):\n",
    "        if nums[i]!=0:\n",
    "            nums[count]=nums[i]\n",
    "            count=count+1\n",
    "    count=k\n",
    "  \n",
    "    while count < len(nums):\n",
    "        nums[count] = 0\n",
    "        count += 1\n",
    "\n",
    "    return nums  "
   ]
  },
  {
   "cell_type": "code",
   "execution_count": 173,
   "id": "5c4970b0",
   "metadata": {},
   "outputs": [
    {
     "data": {
      "text/plain": [
       "[1, 3, 12, 0, 0]"
      ]
     },
     "execution_count": 173,
     "metadata": {},
     "output_type": "execute_result"
    }
   ],
   "source": [
    "nums= [0,1,0,3,12]\n",
    "ele(nums)"
   ]
  },
  {
   "cell_type": "markdown",
   "id": "e1be1f09",
   "metadata": {},
   "source": [
    "### <aside>\n",
    "Q8.You have a set of integers s, which originally contains all the numbers from 1 to n. Unfortunately, due to some error, one of the numbers in s got duplicated to another number in the set, which results in repetition of one number and loss of another number.\n",
    "\n",
    "You are given an integer array nums representing the data status of this set after the error.\n",
    "\n",
    "Find the number that occurs twice and the number that is missing and return them in the form of an array.\n",
    "\n",
    "**Example 1:**\n",
    "Input: nums = [1,2,2,4]\n",
    "Output: [2,3]\n",
    "\n",
    "</aside>"
   ]
  },
  {
   "cell_type": "code",
   "execution_count": 177,
   "id": "c3a51fd3",
   "metadata": {},
   "outputs": [],
   "source": [
    "def missing(nums):\n",
    "    for i in range(len(nums)):\n",
    "        if nums[i]==nums[i+1]:\n",
    "            return [nums[i],nums[i]+1]"
   ]
  },
  {
   "cell_type": "code",
   "execution_count": 178,
   "id": "e7b4169a",
   "metadata": {},
   "outputs": [
    {
     "data": {
      "text/plain": [
       "[2, 3]"
      ]
     },
     "execution_count": 178,
     "metadata": {},
     "output_type": "execute_result"
    }
   ],
   "source": [
    "nums = [1,2,2,4] \n",
    "missing(nums)"
   ]
  },
  {
   "cell_type": "code",
   "execution_count": null,
   "id": "98d08543",
   "metadata": {},
   "outputs": [],
   "source": []
  }
 ],
 "metadata": {
  "kernelspec": {
   "display_name": "Python 3 (ipykernel)",
   "language": "python",
   "name": "python3"
  },
  "language_info": {
   "codemirror_mode": {
    "name": "ipython",
    "version": 3
   },
   "file_extension": ".py",
   "mimetype": "text/x-python",
   "name": "python",
   "nbconvert_exporter": "python",
   "pygments_lexer": "ipython3",
   "version": "3.10.9"
  }
 },
 "nbformat": 4,
 "nbformat_minor": 5
}
